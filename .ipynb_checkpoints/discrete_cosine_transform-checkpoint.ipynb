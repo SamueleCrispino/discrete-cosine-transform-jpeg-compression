{
 "cells": [
  {
   "cell_type": "code",
   "execution_count": 1,
   "id": "6f99baec",
   "metadata": {},
   "outputs": [],
   "source": [
    "import numpy as np\n",
    "\n",
    "from scipy.fft import dctn, idctn"
   ]
  },
  {
   "cell_type": "code",
   "execution_count": 2,
   "id": "fb660997",
   "metadata": {},
   "outputs": [],
   "source": [
    "def generate_random_matrix(rows, cols):\n",
    "    return np.random.random((rows, cols))"
   ]
  },
  {
   "cell_type": "code",
   "execution_count": 3,
   "id": "7fa976fd",
   "metadata": {},
   "outputs": [
    {
     "name": "stdout",
     "output_type": "stream",
     "text": [
      "[[ 6.80000000e+01 -8.92176999e+00 -5.65233285e-15 -6.34050671e-01]\n",
      " [-3.56870800e+01  0.00000000e+00  1.50035220e-15  4.44089210e-15]\n",
      " [-1.06581410e-14 -4.44089210e-16  1.88411095e-15 -3.88578059e-16]\n",
      " [-2.53620268e+00  1.11022302e-15 -1.30124856e-15  4.71844785e-16]]\n"
     ]
    }
   ],
   "source": [
    "def dct2_transform(matrix):\n",
    "    n = matrix.shape[0]\n",
    "    transformed_matrix = np.zeros_like(matrix, dtype=np.float64)\n",
    "    \n",
    "    # Compute DCT along rows\n",
    "    for i in range(n):\n",
    "        transformed_matrix[i] = dct1d(matrix[i])\n",
    "    \n",
    "    # Compute DCT along columns\n",
    "    for j in range(n):\n",
    "        transformed_matrix[:, j] = dct1d(transformed_matrix[:, j])\n",
    "    \n",
    "    return transformed_matrix\n",
    "\n",
    "def dct1d(vector):\n",
    "    n = vector.shape[0]\n",
    "    transformed_vector = np.zeros_like(vector, dtype=np.float64)\n",
    "    \n",
    "    for k in range(n):\n",
    "        sum = 0.0\n",
    "        for i in range(n):\n",
    "            angle = np.pi * k * (2*i + 1) / (2 * n)\n",
    "            sum += vector[i] * np.cos(angle)\n",
    "        transformed_vector[k] = sum * np.sqrt(2/n) if k == 0 else sum * np.sqrt(2/n) * np.sqrt(2)\n",
    "    \n",
    "    return transformed_vector\n",
    "\n",
    "# Example usage\n",
    "n = 4\n",
    "input_matrix = np.array([[1, 2, 3, 4], [5, 6, 7, 8], [9, 10, 11, 12], [13, 14, 15, 16]])\n",
    "transformed_matrix = dct2_transform(input_matrix)\n",
    "print(transformed_matrix)\n"
   ]
  },
  {
   "cell_type": "code",
   "execution_count": 15,
   "id": "d79946cf",
   "metadata": {},
   "outputs": [
    {
     "name": "stdout",
     "output_type": "stream",
     "text": [
      "custom DCT\n",
      "[[ 0.51958686 -0.51958686]\n",
      " [-2.07834742  2.07834742]]\n",
      "Scipy DCTN\n",
      "[[ 8.31338968  2.44772564]\n",
      " [ 1.77139599 -1.00240308]]\n",
      "IDCTN\n",
      "[[ 0.06264049 -0.36509552]\n",
      " [-0.08954298  0.52189472]]\n",
      "IDCTN with scipy result\n",
      "[[0.76720766 0.58510758]\n",
      " [0.7046669  0.02136528]]\n"
     ]
    }
   ],
   "source": [
    "def get_dct_itself_scalar_product(k, n):\n",
    "    return n if k == 0 else n/2\n",
    "\n",
    "def dct_cosine(k, i, n):\n",
    "    return np.cos(k*np.pi*(2*i+1)/2*n)\n",
    "\n",
    "def dct_sum_j(vector, n, s):\n",
    "    sum_j = 0\n",
    "    for j in range(0, n):\n",
    "        sum_j += vector[j]*dct_cosine(s, j, n)\n",
    "    \n",
    "    p = get_dct_itself_scalar_product(s, n)\n",
    "  \n",
    "    return sum_j*1/p\n",
    "\n",
    "\n",
    "def dct_sum_i(matrix, n, r, s):\n",
    "    sum_i = 0\n",
    "    \n",
    "    for i in range(0, n):\n",
    "        sum_i += dct_sum_j(matrix[i], n, r)*dct_cosine(s, i, n)\n",
    "    \n",
    "    p = get_dct_itself_scalar_product(r, n)\n",
    "    \n",
    "    return sum_i*1/p\n",
    "\n",
    "\n",
    "\n",
    "def dct2(matrix):\n",
    "    \n",
    "    n = matrix.shape[0]\n",
    "    coeff_matrix = np.zeros_like(matrix, dtype=np.float64)\n",
    "    \n",
    "    for r in range(0, n):\n",
    "        for s in range(0, n):\n",
    "            coeff_matrix[r, s] = dct_sum_i(matrix, n, r, s)\n",
    "    \n",
    "    return coeff_matrix\n",
    "    \n",
    "\n",
    "\n",
    "\n",
    "matrix = np.array([[0.76720766, 0.58510758],\n",
    "                   [0.7046669 , 0.02136528]])\n",
    "\n",
    "result = dct(matrix)\n",
    "\n",
    "print(\"custom DCT\")\n",
    "print(result)\n",
    "\n",
    "\n",
    "print(\"Scipy DCTN\")\n",
    "scipy_result = dctn(matrix)\n",
    "print(scipy_result)\n",
    "# 0.6234279029010735\n",
    "\n",
    "\n",
    "print(\"IDCTN\")\n",
    "print(idctn(result))\n",
    "\n",
    "print(\"IDCTN with scipy result\")\n",
    "print(idctn(scipy_result))"
   ]
  },
  {
   "cell_type": "code",
   "execution_count": 17,
   "id": "cd3ca842",
   "metadata": {},
   "outputs": [
    {
     "name": "stdout",
     "output_type": "stream",
     "text": [
      "Custom DCT2 Result:\n",
      "[[ 5.00000000e+00 -6.39022475e-15 -5.00000000e+00]\n",
      " [-1.88645126e-14  2.24281353e-29  1.88645126e-14]\n",
      " [-2.00000000e+01  2.55608990e-14  2.00000000e+01]]\n",
      "Scipy DCT2 Result:\n",
      "[[ 1.50000000e+01 -2.44948974e+00  8.88178420e-16]\n",
      " [-7.34846923e+00  0.00000000e+00  0.00000000e+00]\n",
      " [ 7.69185075e-16  0.00000000e+00  0.00000000e+00]]\n"
     ]
    }
   ],
   "source": [
    "from scipy.fftpack import dct as dct_scipy\n",
    "\n",
    "# Using scipy's dct function\n",
    "def dct2_scipy(matrix):\n",
    "    return dct_scipy(dct_scipy(matrix, axis=0, norm='ortho'), axis=1, norm='ortho')\n",
    "\n",
    "\n",
    "# Example usage\n",
    "matrix = np.array([[1, 2, 3],\n",
    "                   [4, 5, 6],\n",
    "                   [7, 8, 9]])\n",
    "\n",
    "# Custom DCT2\n",
    "custom_result = dct2(matrix)\n",
    "\n",
    "# Scipy DCT2\n",
    "scipy_result = dct2_scipy(matrix)\n",
    "\n",
    "print(\"Custom DCT2 Result:\")\n",
    "print(custom_result)\n",
    "\n",
    "print(\"Scipy DCT2 Result:\")\n",
    "print(scipy_result)"
   ]
  }
 ],
 "metadata": {
  "kernelspec": {
   "display_name": "Python 3 (ipykernel)",
   "language": "python",
   "name": "python3"
  },
  "language_info": {
   "codemirror_mode": {
    "name": "ipython",
    "version": 3
   },
   "file_extension": ".py",
   "mimetype": "text/x-python",
   "name": "python",
   "nbconvert_exporter": "python",
   "pygments_lexer": "ipython3",
   "version": "3.10.9"
  }
 },
 "nbformat": 4,
 "nbformat_minor": 5
}
